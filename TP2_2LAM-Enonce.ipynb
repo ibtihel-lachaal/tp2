{
 "cells": [
  {
   "cell_type": "code",
   "execution_count": 4,
   "metadata": {},
   "outputs": [],
   "source": [
    "# Simulation du jeux de LIDO simplifié"
   ]
  },
  {
   "cell_type": "markdown",
   "metadata": {},
   "source": [
    "## Principe\n",
    "On considére un jeux de Lido simple:\n",
    "on dispose d'un un seul pion.\n",
    "\n",
    "- Etape 0 :\n",
    "Le pion doit sort de sa prison lorsqu'on obtient un 6.\n",
    "\n",
    "- Etape 1 :\n",
    "Le pion doit atteindre exactement une position cible situé à N pas de distance de sa prison \n",
    "\n",
    "Soit $X_n$ la variable aléatoire qui represente le nombre de coup nécéssaire pour atteindre la positions cible.\n",
    "\n",
    "**Objectif 1** : Simuler le jeux \n",
    "\n",
    "**Objectif 2** : Calculer une estimation de l'éspérance mathématique de $X_n$ en utilisant `python`\n",
    "\n",
    "**Objéctif 3** : Observer la variation de $\\mathbb{E}(X_n)$ en fonction de $n$\n",
    "\n",
    "<img src=\"LIDO.png\">\n"
   ]
  },
  {
   "cell_type": "code",
   "execution_count": 5,
   "metadata": {},
   "outputs": [],
   "source": [
    "import numpy as np #importation de bibliothèque mathematique"
   ]
  },
  {
   "cell_type": "markdown",
   "metadata": {},
   "source": [
    "### Simulation du lancé de dé"
   ]
  },
  {
   "cell_type": "code",
   "execution_count": 6,
   "metadata": {},
   "outputs": [],
   "source": [
    "def Roll():\n",
    "    return int(np.random.choice(range(1,7),1)) \n",
    "#la fonction retourne le résultat de choisir un nombre entre 1 et 6 d'une façon aléatoire."

   ]
  },
  {
   "cell_type": "code",
   "execution_count": 7,
   "metadata": {},
   "outputs": [
    {
     "data": {
      "text/plain": [
       "4"
      ]
     },
     "execution_count": 7,
     "metadata": {},
     "output_type": "execute_result"
    }
   ],
   "source": [
    "Roll()#appeler la fonction"
   ]
  },
  {
   "cell_type": "markdown",
   "metadata": {},
   "source": [
    "### Compléter le code et commenter"
   ]
  },
  {
   "cell_type": "code",
   "execution_count": 8,
   "metadata": {
    "scrolled": false
   },
   "outputs": [
    {
     "name": "stdout",
     "output_type": "stream",
     "text": [
      "3 0 1\n",
      "6 1 2\n",
      "2 3 3\n",
      "2 5 4\n",
      "3 8 5\n",
      "3 8 6\n",
      "1 9 7\n",
      "6 9 8\n",
      "6 9 9\n",
      "4 9 10\n",
      "4 9 11\n",
      "3 9 12\n",
      "5 9 13\n",
      "2 9 14\n",
      "6 9 15\n",
      "2 9 16\n",
      "3 9 17\n",
      "5 9 18\n",
      "1 10 19\n"
     ]
    }
   ],
   "source": [
    "A = 0 #position \n",
    "NA = 0 #la valeur de dé aprés lancement\n",
    "S = 10 #la position de la cible\n",
    "c = 0 #compteur\n",
    "while (A<S):#tantqu'on n'a pas atteindre S (la position de la cible)\n",
    "    NA=Roll()\n",
    "    if NA == 6 and A==0:\n",
    "        A=1 #on avance par 1 car NA =6 pour le premier lancement\n",
    "        c=c+1 #incrémentation de valeur de variable position\n",
    "        print(NA,A,c)\n",
    "    elif A>0 and NA+A<S: #on ñ'a pas encore atteindre la cible\n",
    "        A=A+NA\n",
    "        c=c+1\n",
    "        print(NA,A,c)\n",
    "    elif NA+A == S : #if NA+A égale la valeur de cible\n",
    "        A=A+NA\n",
    "        c=c+1\n",
    "        print(NA,A,c)\n",
    "        break #Nous avons atteint la position cible\n",
    "    else: #si NA différent de 6\n",
    "        c=c+1\n",
    "        print(NA,A,c)\n"
   ]
  },
  {
   "cell_type": "markdown",
   "metadata": {},
   "source": [
    "### Simulation\n",
    "Ecrire une foction `sim` qui simule le jeux et qui prend comme variable le nombre de pas $n$ nécessazire pour atteindre la cible"
   ]
  },
  {
   "cell_type": "code",
   "execution_count": 9,
   "metadata": {},
   "outputs": [],
   "source": [
    "def sim(S):\n",
    "    A = 0 #position \n",
    "    NA = 0 #valeur de dé aprés lancement\n",
    "    c = 0 #compteur\n",
    "    while (A<S):#tantqu'on n'a pas atteindre S (la position de la cible)\n",
    "        NA=Roll()\n",
    "        if NA == 6 and A==0:\n",
    "            A=1 #on avance par 1 car NA =6 pour le premier lancement\n",
    "            c=c+1 #incrémentation de valeur de variable position\n",
    "        elif A>0 and NA+A<S: #on ñ'a pas encore atteindre la cible\n",
    "            A=A+NA\n",
    "            c=c+1\n",
    "        elif NA+A == S : #if NA+A égale la valeur de cible\n",
    "            A=A+NA\n",
    "            c=c+1\n",
    "            break #Nous avons atteint la position cible\n",
    "        else: #si NA différent de 6\n",
    "            c=c+1\n",
    "\n",
    "    return c\n",
    "    "
   ]
  },
  {
   "cell_type": "code",
   "execution_count": 10,
   "metadata": {},
   "outputs": [
    {
     "data": {
      "text/plain": [
       "21"
      ]
     },
     "execution_count": 10,
     "metadata": {},
     "output_type": "execute_result"
    }
   ],
   "source": [
    "sim(30) #déterminer le nombre de coupe necessaire pour atteindre la cible"
   ]
  },
  {
   "cell_type": "code",
   "execution_count": 12,
   "metadata": {},
   "outputs": [
    {
     "data": {
      "text/plain": [
       "99999.0"
      ]
     },
     "execution_count": 12,
     "metadata": {},
     "output_type": "execute_result"
    }
   ],
   "source": [
    "### Simulation de $10^5$  scénario \n",
    "F=100000\n",
    "L=[]\n",
    "for i in range(F):\n",
    "    L.append(sim(30)) #jouer plusieurs fois et enregistrer les résultats dans une liste\n",
    "def moy(L):\n",
    "    m=0\n",
    "    for j in L:\n",
    "        m=m+i\n",
    "    return m/len(L) #retourner l'espérance)\n",
    "moy(L)  "
   ]
  },
  {
   "cell_type": "code",
   "execution_count": 13,
   "metadata": {},
   "outputs": [],
   "source": [
    "Freq=np.fromiter((sim(20) for i in range(10**5)),dtype=int)#jouer beaucoups de fois  "
   ]
  },
  {
   "cell_type": "code",
   "execution_count": 14,
   "metadata": {},
   "outputs": [],
   "source": [
    "ESP=Freq.sum()/10**5 #calculer l'espérance"
   ]
  },
  {
   "cell_type": "code",
   "execution_count": 16,
   "metadata": {},
   "outputs": [],
   "source": [
    "x=list(range(10,20))"
   ]
  },
  {
   "cell_type": "code",
   "execution_count": 17,
   "metadata": {},
   "outputs": [],
   "source": [
    "y=[np.fromiter((sim(j) for i in range(5*10**4)),dtype=int).sum()/50000 for j in x]"
   ]
  },
  {
   "cell_type": "code",
   "execution_count": 23,
   "metadata": {},
   "outputs": [],
   "source": [
    "import matplotlib.pyplot as plt\n",
    "x=np.linspace(10,20,50)\n",
    "y=0.2853781818181818 *x + 10.479880363636362"
   ]
  },
  {
   "cell_type": "code",
   "execution_count": 24,
   "metadata": {},
   "outputs": [
    {
     "data": {
      "text/plain": [
       "[<matplotlib.lines.Line2D at 0x1eff2a23550>]"
      ]
     },
     "execution_count": 24,
     "metadata": {},
     "output_type": "execute_result"
    },
    {
     "data": {
      "image/png": "[encoded data removed]",
      "text/plain": [
       "<Figure size 432x288 with 1 Axes>"
      ]
     },
     "metadata": {
      "needs_background": "light"
     },
     "output_type": "display_data"
    }
   ],
   "source": [
    "plt.plot(x,y,'b*')# b = bleu\n",
    "plt.plot(x,y,'r') # r = rouge"
   ]
  },
  {
   "cell_type": "code",
   "execution_count": 20,
   "metadata": {},
   "outputs": [],
   "source": [
    "from scipy import stats #importer la bibliothèque stat\n",
    "import numpy as np\n",
    "slope, intercept, r_value, p_value, std_err = stats.linregress(x,y)"
   ]
  },
  {
   "cell_type": "code",
   "execution_count": 21,
   "metadata": {},
   "outputs": [
    {
     "data": {
      "text/plain": [
       "0.2853781818181818"
      ]
     },
     "execution_count": 21,
     "metadata": {},
     "output_type": "execute_result"
    }
   ],
   "source": [
    "slope #le coefficient a de l'equation f(x) = ax +b"
   ]
  },
  {
   "cell_type": "code",
   "execution_count": 22,
   "metadata": {},
   "outputs": [
    {
     "data": {
      "text/plain": [
       "10.479880363636362"
      ]
     },
     "execution_count": 22,
     "metadata": {},
     "output_type": "execute_result"
    }
   ],
   "source": [
    "intercept #le coefficient b de l'equation f(x) = ax +b\n"
   ]
  },
  {
   "cell_type": "code",
   "execution_count": null,
   "metadata": {},
   "outputs": [],
   "source": []
  },
  {
   "cell_type": "code",
   "execution_count": null,
   "metadata": {},
   "outputs": [],
   "source": []
  }
 ],
 "metadata": {
  "kernelspec": {
   "display_name": "Python 3",
   "language": "python",
   "name": "python3"
  },
  "language_info": {
   "codemirror_mode": {
    "name": "ipython",
    "version": 3
   },
   "file_extension": ".py",
   "mimetype": "text/x-python",
   "name": "python",
   "nbconvert_exporter": "python",
   "pygments_lexer": "ipython3",
   "version": "3.8.8"
  }
 },
 "nbformat": 4,
 "nbformat_minor": 4
}
